{
  "nbformat": 4,
  "nbformat_minor": 0,
  "metadata": {
    "colab": {
      "provenance": [],
      "include_colab_link": true
    },
    "kernelspec": {
      "name": "python3",
      "display_name": "Python 3"
    },
    "language_info": {
      "name": "python"
    }
  },
  "cells": [
    {
      "cell_type": "markdown",
      "metadata": {
        "id": "view-in-github",
        "colab_type": "text"
      },
      "source": [
        "<a href=\"https://colab.research.google.com/github/Mharishankar1/CodSoft-ML/blob/main/MLTASK2.ipynb\" target=\"_parent\"><img src=\"https://colab.research.google.com/assets/colab-badge.svg\" alt=\"Open In Colab\"/></a>"
      ]
    },
    {
      "cell_type": "code",
      "source": [
        "import pandas as pd\n",
        "import seaborn as sns\n",
        "import matplotlib.pyplot as plt\n",
        "from sklearn.model_selection import train_test_split\n",
        "from sklearn.preprocessing import StandardScaler\n",
        "from sklearn.impute import SimpleImputer\n",
        "from sklearn.linear_model import LogisticRegression\n",
        "from sklearn.metrics import accuracy_score, classification_report, confusion_matrix\n"
      ],
      "metadata": {
        "id": "6SDkxzQJxZAO"
      },
      "execution_count": null,
      "outputs": []
    },
    {
      "cell_type": "code",
      "source": [
        "data1 = pd.read_csv('fraudTest.csv')\n",
        "\n",
        "data2 = pd.read_csv('fraudTrain.csv')"
      ],
      "metadata": {
        "id": "3NxiS5E-xd_t"
      },
      "execution_count": null,
      "outputs": []
    },
    {
      "cell_type": "code",
      "source": [
        "data = pd.concat([data1, data2], ignore_index=True)"
      ],
      "metadata": {
        "id": "i7uLVtiQxzFx"
      },
      "execution_count": null,
      "outputs": []
    },
    {
      "cell_type": "code",
      "source": [
        "print(\"Dataset Information:\")\n",
        "print(data.info())\n"
      ],
      "metadata": {
        "colab": {
          "base_uri": "https://localhost:8080/"
        },
        "id": "RShg-EBtx6qg",
        "outputId": "5baedf1b-2b11-4292-a0e3-a6483a48c365"
      },
      "execution_count": null,
      "outputs": [
        {
          "output_type": "stream",
          "name": "stdout",
          "text": [
            "Dataset Information:\n",
            "<class 'pandas.core.frame.DataFrame'>\n",
            "RangeIndex: 593361 entries, 0 to 593360\n",
            "Data columns (total 23 columns):\n",
            " #   Column                 Non-Null Count   Dtype  \n",
            "---  ------                 --------------   -----  \n",
            " 0   Unnamed: 0             593361 non-null  int64  \n",
            " 1   trans_date_trans_time  593361 non-null  object \n",
            " 2   cc_num                 593361 non-null  int64  \n",
            " 3   merchant               593360 non-null  object \n",
            " 4   category               593360 non-null  object \n",
            " 5   amt                    593360 non-null  float64\n",
            " 6   first                  593360 non-null  object \n",
            " 7   last                   593360 non-null  object \n",
            " 8   gender                 593360 non-null  object \n",
            " 9   street                 593360 non-null  object \n",
            " 10  city                   593360 non-null  object \n",
            " 11  state                  593360 non-null  object \n",
            " 12  zip                    593360 non-null  float64\n",
            " 13  lat                    593360 non-null  float64\n",
            " 14  long                   593360 non-null  float64\n",
            " 15  city_pop               593360 non-null  float64\n",
            " 16  job                    593360 non-null  object \n",
            " 17  dob                    593360 non-null  object \n",
            " 18  trans_num              593360 non-null  object \n",
            " 19  unix_time              593360 non-null  float64\n",
            " 20  merch_lat              593359 non-null  float64\n",
            " 21  merch_long             593359 non-null  float64\n",
            " 22  is_fraud               593359 non-null  float64\n",
            "dtypes: float64(9), int64(2), object(12)\n",
            "memory usage: 104.1+ MB\n",
            "None\n"
          ]
        }
      ]
    },
    {
      "cell_type": "code",
      "source": [
        "print(\"\\nSummary Statistics:\")\n",
        "print(data.describe())"
      ],
      "metadata": {
        "colab": {
          "base_uri": "https://localhost:8080/"
        },
        "id": "NKWcF6sVyDXe",
        "outputId": "e25db2d6-78b6-4f74-c53f-a2c238d13e95"
      },
      "execution_count": null,
      "outputs": [
        {
          "output_type": "stream",
          "name": "stdout",
          "text": [
            "\n",
            "Summary Statistics:\n",
            "          Unnamed: 0        cc_num            amt            zip  \\\n",
            "count  593361.000000  5.933610e+05  593360.000000  593360.000000   \n",
            "mean   148345.965980  4.174607e+17      70.187880   48793.677370   \n",
            "std     85655.120938  1.309214e+18     152.346157   26882.039199   \n",
            "min         0.000000  3.506043e+07       1.000000    1257.000000   \n",
            "25%     74170.000000  1.800400e+14       9.640000   26237.000000   \n",
            "50%    148340.000000  3.520550e+15      47.470000   48174.000000   \n",
            "75%    222510.000000  4.635331e+15      83.220000   72011.000000   \n",
            "max    298600.000000  4.992346e+18   17897.240000   99783.000000   \n",
            "\n",
            "                 lat           long      city_pop     unix_time  \\\n",
            "count  593360.000000  593360.000000  5.933600e+05  5.933600e+05   \n",
            "mean       38.540574     -90.213768  8.904159e+04  1.354377e+09   \n",
            "std         5.072699      13.744669  3.017482e+05  2.247766e+07   \n",
            "min        20.027100    -165.672300  2.300000e+01  1.381500e+04   \n",
            "25%        34.668900     -96.798000  7.430000e+02  1.332315e+09   \n",
            "50%        39.371600     -87.476900  2.443000e+03  1.371857e+09   \n",
            "75%        41.940400     -80.158000  2.032800e+04  1.376310e+09   \n",
            "max        66.693300     -67.950300  2.906700e+06  1.381542e+09   \n",
            "\n",
            "           merch_lat     merch_long       is_fraud  \n",
            "count  593359.000000  593359.000000  593359.000000  \n",
            "mean       38.540157     -90.213851       0.006067  \n",
            "std         5.107920      13.757021       0.077655  \n",
            "min        19.029798    -166.671575       0.000000  \n",
            "25%        34.745799     -96.884590       0.000000  \n",
            "50%        39.368405     -87.425620       0.000000  \n",
            "75%        41.959480     -80.232280       0.000000  \n",
            "max        67.510267     -66.952026       1.000000  \n"
          ]
        }
      ]
    },
    {
      "cell_type": "code",
      "source": [
        "sns.countplot(x='is_fraud', data=data)\n",
        "plt.title('Distribution of Target Variable (is_fraud)')\n",
        "plt.show()"
      ],
      "metadata": {
        "colab": {
          "base_uri": "https://localhost:8080/",
          "height": 472
        },
        "id": "xk33nzaiyJ6r",
        "outputId": "d1774a67-e0b8-41c7-aa3d-39ec9f663ed9"
      },
      "execution_count": null,
      "outputs": [
        {
          "output_type": "display_data",
          "data": {
            "text/plain": [
              "<Figure size 640x480 with 1 Axes>"
            ],
            "image/png": "[encoded data removed]"
          },
          "metadata": {}
        }
      ]
    },
    {
      "cell_type": "code",
      "source": [
        "X = data.drop('is_fraud', axis=1)\n",
        "y = data['is_fraud']\n"
      ],
      "metadata": {
        "id": "WLg-asY0yhlG"
      },
      "execution_count": null,
      "outputs": []
    },
    {
      "cell_type": "code",
      "source": [
        "from sklearn.ensemble import RandomForestClassifier\n",
        "from sklearn.naive_bayes import GaussianNB\n",
        "from sklearn.linear_model import LogisticRegression\n",
        "from sklearn.metrics import accuracy_score, confusion_matrix, classification_report\n",
        "from sklearn.impute import SimpleImputer\n",
        "from sklearn.preprocessing import StandardScaler\n",
        "from sklearn.model_selection import train_test_split\n",
        "import matplotlib.pyplot as plt\n",
        "\n",
        "\n",
        "X_train, X_test, y_train, y_test = train_test_split(X_numeric, y, test_size=0.2, random_state=42)\n",
        "\n",
        "\n",
        "imputer = SimpleImputer(strategy='mean')\n",
        "X_train_imputed = imputer.fit_transform(X_train)\n",
        "X_test_imputed = imputer.transform(X_test)\n",
        "\n",
        "rf_model = RandomForestClassifier()\n",
        "nb_model = GaussianNB()\n",
        "logreg_model = LogisticRegression()\n",
        "\n",
        "\n",
        "rf_model.fit(X_train_imputed, y_train)\n",
        "y_pred_rf = rf_model.predict(X_test_imputed)\n",
        "accuracy_rf = accuracy_score(y_test, y_pred_rf)\n",
        "\n",
        "nb_model.fit(X_train_imputed, y_train)\n",
        "y_pred_nb = nb_model.predict(X_test_imputed)\n",
        "accuracy_nb = accuracy_score(y_test, y_pred_nb)\n",
        "\n",
        "scaler = StandardScaler()\n",
        "X_train_imputed_scaled = scaler.fit_transform(X_train_imputed)\n",
        "X_test_imputed_scaled = scaler.transform(X_test_imputed)\n",
        "logreg_model.fit(X_train_imputed_scaled, y_train)\n",
        "y_pred_logreg = logreg_model.predict(X_test_imputed_scaled)\n",
        "accuracy_logreg = accuracy_score(y_test, y_pred_logreg)\n",
        "\n",
        "models = ['Random Forest', 'Naive Bayes', 'Logistic Regression']\n",
        "accuracies = [accuracy_rf, accuracy_nb, accuracy_logreg]\n",
        "\n",
        "plt.figure(figsize=(10, 6))\n",
        "plt.bar(models, accuracies, color=['blue', 'orange', 'green'])\n",
        "plt.xlabel('Model')\n",
        "plt.ylabel('Accuracy')\n",
        "plt.title('Comparison of Model Accuracies')\n",
        "plt.ylim(0.8, 1.0)\n",
        "plt.show()\n",
        "best_model = models[accuracies.index(max(accuracies))]\n",
        "print(f\"The best model is: {best_model} with accuracy {max(accuracies):.4f}\")\n"
      ],
      "metadata": {
        "id": "0Y2cX_Gey-Kt",
        "outputId": "5fc612cc-4fdb-4dd8-f3ca-e4242b671d79",
        "colab": {
          "base_uri": "https://localhost:8080/",
          "height": 581
        }
      },
      "execution_count": null,
      "outputs": [
        {
          "output_type": "display_data",
          "data": {
            "text/plain": [
              "<Figure size 1000x600 with 1 Axes>"
            ],
            "image/png": "[encoded data removed]"
          },
          "metadata": {}
        },
        {
          "output_type": "stream",
          "name": "stdout",
          "text": [
            "The best model is: Random Forest with accuracy 0.9970\n"
          ]
        }
      ]
    },
    {
      "cell_type": "code",
      "source": [
        "\n",
        "print(\"Accuracy for Random Forest:\", accuracy_rf)\n",
        "\n",
        "print(\"Classification Report for Random Forest:\")\n",
        "print(classification_report(y_test, y_pred_rf))\n",
        "print(\"\")\n",
        "\n",
        "print(\"Classification Report for Naive Bayes:\")\n",
        "print(classification_report(y_test, y_pred_nb))\n",
        "print(\"\")\n",
        "print(\"Classification Report for Logistic Regression:\")\n",
        "print(classification_report(y_test, y_pred_logreg))\n",
        "\n",
        "print(\"Accuracy for Naive Bayes:\", accuracy_nb)\n",
        "print(\"Accuracy for Logistic Regression:\", accuracy_logreg)"
      ],
      "metadata": {
        "id": "Cbuw9hHa4GT1",
        "outputId": "fb3adcdc-13d9-4938-f50a-bd5f8062b503",
        "colab": {
          "base_uri": "https://localhost:8080/"
        }
      },
      "execution_count": null,
      "outputs": [
        {
          "output_type": "stream",
          "name": "stdout",
          "text": [
            "Accuracy for Random Forest: 0.9969748550626938\n",
            "Classification Report for Random Forest:\n",
            "              precision    recall  f1-score   support\n",
            "\n",
            "         0.0       1.00      1.00      1.00    117987\n",
            "         1.0       0.86      0.57      0.68       685\n",
            "\n",
            "    accuracy                           1.00    118672\n",
            "   macro avg       0.93      0.78      0.84    118672\n",
            "weighted avg       1.00      1.00      1.00    118672\n",
            "\n",
            "\n",
            "Classification Report for Naive Bayes:\n"
          ]
        },
        {
          "output_type": "stream",
          "name": "stderr",
          "text": [
            "/usr/local/lib/python3.10/dist-packages/sklearn/metrics/_classification.py:1344: UndefinedMetricWarning: Precision and F-score are ill-defined and being set to 0.0 in labels with no predicted samples. Use `zero_division` parameter to control this behavior.\n",
            "  _warn_prf(average, modifier, msg_start, len(result))\n",
            "/usr/local/lib/python3.10/dist-packages/sklearn/metrics/_classification.py:1344: UndefinedMetricWarning: Precision and F-score are ill-defined and being set to 0.0 in labels with no predicted samples. Use `zero_division` parameter to control this behavior.\n",
            "  _warn_prf(average, modifier, msg_start, len(result))\n",
            "/usr/local/lib/python3.10/dist-packages/sklearn/metrics/_classification.py:1344: UndefinedMetricWarning: Precision and F-score are ill-defined and being set to 0.0 in labels with no predicted samples. Use `zero_division` parameter to control this behavior.\n",
            "  _warn_prf(average, modifier, msg_start, len(result))\n"
          ]
        },
        {
          "output_type": "stream",
          "name": "stdout",
          "text": [
            "              precision    recall  f1-score   support\n",
            "\n",
            "         0.0       0.99      1.00      1.00    117987\n",
            "         1.0       0.00      0.00      0.00       685\n",
            "\n",
            "    accuracy                           0.99    118672\n",
            "   macro avg       0.50      0.50      0.50    118672\n",
            "weighted avg       0.99      0.99      0.99    118672\n",
            "\n",
            "\n",
            "Classification Report for Logistic Regression:\n",
            "              precision    recall  f1-score   support\n",
            "\n",
            "         0.0       0.99      1.00      1.00    117987\n",
            "         1.0       0.00      0.00      0.00       685\n",
            "\n",
            "    accuracy                           0.99    118672\n",
            "   macro avg       0.50      0.50      0.50    118672\n",
            "weighted avg       0.99      0.99      0.99    118672\n",
            "\n",
            "Accuracy for Naive Bayes: 0.9942277875151678\n",
            "Accuracy for Logistic Regression: 0.9934356882836727\n"
          ]
        }
      ]
    }
  ]
}