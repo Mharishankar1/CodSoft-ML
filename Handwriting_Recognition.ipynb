{
  "nbformat": 4,
  "nbformat_minor": 0,
  "metadata": {
    "colab": {
      "provenance": [],
      "include_colab_link": true
    },
    "kernelspec": {
      "name": "python3",
      "display_name": "Python 3"
    },
    "language_info": {
      "name": "python"
    }
  },
  "cells": [
    {
      "cell_type": "markdown",
      "metadata": {
        "id": "view-in-github",
        "colab_type": "text"
      },
      "source": [
        "<a href=\"https://colab.research.google.com/github/Mharishankar1/CodSoft-ML/blob/main/Handwriting_Recognition.ipynb\" target=\"_parent\"><img src=\"https://colab.research.google.com/assets/colab-badge.svg\" alt=\"Open In Colab\"/></a>"
      ]
    },
    {
      "cell_type": "code",
      "source": [
        "from google.colab import drive\n",
        "drive.mount('/content/drive')"
      ],
      "metadata": {
        "colab": {
          "base_uri": "https://localhost:8080/"
        },
        "id": "8E0qDeBxr6s3",
        "outputId": "8c362795-5c6a-421e-8ed8-15df046f9062"
      },
      "execution_count": null,
      "outputs": [
        {
          "output_type": "stream",
          "name": "stdout",
          "text": [
            "Mounted at /content/drive\n"
          ]
        }
      ]
    },
    {
      "cell_type": "code",
      "execution_count": null,
      "metadata": {
        "id": "bgwldACFa8_k"
      },
      "outputs": [],
      "source": [
        "import numpy as np\n",
        "import tensorflow as tf\n",
        "from tensorflow.keras.preprocessing.text import Tokenizer\n",
        "from tensorflow.keras.preprocessing.sequence import pad_sequences\n",
        "from tensorflow.keras.models import Sequential\n",
        "from tensorflow.keras.layers import Embedding, LSTM, Dense\n",
        "\n",
        "with open('sherlock-holm.es_stories_plain-text_advs.txt', 'r', encoding='utf-8') as file:\n",
        "    text = file.read()"
      ]
    },
    {
      "cell_type": "code",
      "source": [
        "tokenizer = Tokenizer()\n",
        "tokenizer.fit_on_texts([text])\n",
        "total_words = len(tokenizer.word_index) + 1"
      ],
      "metadata": {
        "id": "D08kppoXbLN-"
      },
      "execution_count": null,
      "outputs": []
    },
    {
      "cell_type": "code",
      "source": [
        "input_sequences = []\n",
        "for line in text.split('\\n'):\n",
        "    token_list = tokenizer.texts_to_sequences([line])[0]\n",
        "    for i in range(1, len(token_list)):\n",
        "        n_gram_sequence = token_list[:i+1]\n",
        "        input_sequences.append(n_gram_sequence)"
      ],
      "metadata": {
        "id": "hMdl6oVFbOEY"
      },
      "execution_count": null,
      "outputs": []
    },
    {
      "cell_type": "code",
      "source": [
        "max_sequence_len = max([len(seq) for seq in input_sequences])\n",
        "input_sequences = np.array(pad_sequences(input_sequences, maxlen=max_sequence_len, padding='pre'))"
      ],
      "metadata": {
        "id": "dAm1wM3UbRXj"
      },
      "execution_count": null,
      "outputs": []
    },
    {
      "cell_type": "code",
      "source": [
        "X = input_sequences[:, :-1]\n",
        "y = input_sequences[:, -1]"
      ],
      "metadata": {
        "id": "t3-VqvHybSM-"
      },
      "execution_count": null,
      "outputs": []
    },
    {
      "cell_type": "code",
      "source": [
        "y = np.array(tf.keras.utils.to_categorical(y, num_classes=total_words))"
      ],
      "metadata": {
        "id": "kIWl7VGdbU8K"
      },
      "execution_count": null,
      "outputs": []
    },
    {
      "cell_type": "code",
      "source": [
        "model = Sequential()\n",
        "model.add(Embedding(total_words, 100, input_length=max_sequence_len-1))\n",
        "model.add(LSTM(150))\n",
        "model.add(Dense(total_words, activation='softmax'))\n",
        "print(model.summary())"
      ],
      "metadata": {
        "colab": {
          "base_uri": "https://localhost:8080/"
        },
        "id": "lSNECMusbW3n",
        "outputId": "7eb30eec-7d85-4973-f4d5-7924a3e370f1"
      },
      "execution_count": null,
      "outputs": [
        {
          "output_type": "stream",
          "name": "stdout",
          "text": [
            "Model: \"sequential\"\n",
            "_________________________________________________________________\n",
            " Layer (type)                Output Shape              Param #   \n",
            "=================================================================\n",
            " embedding (Embedding)       (None, 17, 100)           820000    \n",
            "                                                                 \n",
            " lstm (LSTM)                 (None, 150)               150600    \n",
            "                                                                 \n",
            " dense (Dense)               (None, 8200)              1238200   \n",
            "                                                                 \n",
            "=================================================================\n",
            "Total params: 2208800 (8.43 MB)\n",
            "Trainable params: 2208800 (8.43 MB)\n",
            "Non-trainable params: 0 (0.00 Byte)\n",
            "_________________________________________________________________\n",
            "None\n"
          ]
        }
      ]
    },
    {
      "cell_type": "code",
      "source": [
        "model.compile(loss='categorical_crossentropy', optimizer='adam', metrics=['accuracy'])\n",
        "model.fit(X, y, epochs=20, verbose=1)"
      ],
      "metadata": {
        "id": "ZnP93oTPbY_K",
        "colab": {
          "base_uri": "https://localhost:8080/"
        },
        "outputId": "25dd6b75-840a-4064-be70-bb77444efbca"
      },
      "execution_count": null,
      "outputs": [
        {
          "output_type": "stream",
          "name": "stdout",
          "text": [
            "Epoch 1/20\n",
            "3010/3010 [==============================] - 221s 72ms/step - loss: 6.2373 - accuracy: 0.0772\n",
            "Epoch 2/20\n",
            "3010/3010 [==============================] - 202s 67ms/step - loss: 5.5122 - accuracy: 0.1239\n",
            "Epoch 3/20\n",
            "3010/3010 [==============================] - 207s 69ms/step - loss: 5.1293 - accuracy: 0.1476\n",
            "Epoch 4/20\n",
            "3010/3010 [==============================] - 203s 68ms/step - loss: 4.7988 - accuracy: 0.1651\n",
            "Epoch 5/20\n",
            "3010/3010 [==============================] - 199s 66ms/step - loss: 4.4958 - accuracy: 0.1840\n",
            "Epoch 6/20\n",
            "3010/3010 [==============================] - 201s 67ms/step - loss: 4.2098 - accuracy: 0.2023\n",
            "Epoch 7/20\n",
            "3010/3010 [==============================] - 198s 66ms/step - loss: 3.9383 - accuracy: 0.2279\n",
            "Epoch 8/20\n",
            "3010/3010 [==============================] - 198s 66ms/step - loss: 3.6793 - accuracy: 0.2575\n",
            "Epoch 9/20\n",
            "3010/3010 [==============================] - 199s 66ms/step - loss: 3.4378 - accuracy: 0.2891\n",
            "Epoch 10/20\n",
            "3010/3010 [==============================] - 198s 66ms/step - loss: 3.2085 - accuracy: 0.3244\n",
            "Epoch 11/20\n",
            "3010/3010 [==============================] - 205s 68ms/step - loss: 2.9976 - accuracy: 0.3604\n",
            "Epoch 12/20\n",
            "3010/3010 [==============================] - 202s 67ms/step - loss: 2.8026 - accuracy: 0.3956\n",
            "Epoch 13/20\n",
            "3010/3010 [==============================] - 204s 68ms/step - loss: 2.6207 - accuracy: 0.4305\n",
            "Epoch 14/20\n",
            "3010/3010 [==============================] - 204s 68ms/step - loss: 2.4572 - accuracy: 0.4609\n",
            "Epoch 15/20\n",
            "3010/3010 [==============================] - 202s 67ms/step - loss: 2.3036 - accuracy: 0.4920\n",
            "Epoch 16/20\n",
            "3010/3010 [==============================] - 203s 67ms/step - loss: 2.1637 - accuracy: 0.5200\n",
            "Epoch 17/20\n",
            "3010/3010 [==============================] - 199s 66ms/step - loss: 2.0366 - accuracy: 0.5480\n",
            "Epoch 18/20\n",
            "3010/3010 [==============================] - 205s 68ms/step - loss: 1.9198 - accuracy: 0.5714\n",
            "Epoch 19/20\n",
            "3010/3010 [==============================] - 210s 70ms/step - loss: 1.8118 - accuracy: 0.5947\n",
            "Epoch 20/20\n",
            "3010/3010 [==============================] - 207s 69ms/step - loss: 1.7115 - accuracy: 0.6162\n"
          ]
        },
        {
          "output_type": "execute_result",
          "data": {
            "text/plain": [
              "<keras.src.callbacks.History at 0x7a796fb01de0>"
            ]
          },
          "metadata": {},
          "execution_count": 10
        }
      ]
    },
    {
      "cell_type": "code",
      "source": [
        "seed_text = \"This hotel is\"\n",
        "next_words = 3\n",
        "\n",
        "for _ in range(next_words):\n",
        "    token_list = tokenizer.texts_to_sequences([seed_text])[0]\n",
        "    token_list = pad_sequences([token_list], maxlen=max_sequence_len-1, padding='pre')\n",
        "    predicted = np.argmax(model.predict(token_liist), axis=-1)\n",
        "    output_word = \"\"\n",
        "    for word, index in tokenizer.word_index.items():\n",
        "        if index == predicted:\n",
        "            output_word = word\n",
        "            break\n",
        "    seed_text += \" \" + output_word\n",
        "\n",
        "print(seed_text)"
      ],
      "metadata": {
        "id": "8zCAwB6ubb2F",
        "colab": {
          "base_uri": "https://localhost:8080/"
        },
        "outputId": "fb216e1e-a622-44fe-a8f7-ae4e373383f7"
      },
      "execution_count": null,
      "outputs": [
        {
          "output_type": "stream",
          "name": "stdout",
          "text": [
            "1/1 [==============================] - 1s 719ms/step\n",
            "1/1 [==============================] - 0s 43ms/step\n",
            "1/1 [==============================] - 0s 47ms/step\n",
            "This hotel is what i found\n"
          ]
        }
      ]
    },
    {
      "cell_type": "code",
      "source": [
        "with open(\"output.txt\",'w') as file:\n",
        "  file.writelines([seed_text])\n",
        "  file.close()"
      ],
      "metadata": {
        "id": "dyfIhGGeu5lP"
      },
      "execution_count": null,
      "outputs": []
    },
    {
      "cell_type": "code",
      "source": [
        "from PIL import Image\n",
        "with open('output.txt','r') as txt:\n",
        "    lines = txt.readlines()\n",
        "\n",
        "BG=Image.open('drive/MyDrive/myfont/bg.png')\n",
        "for line in lines:\n",
        "  text = line.strip()\n",
        "  sheet_width=BG.width\n",
        "  gap, ht = 0, 0\n",
        "\n",
        "  for i in text.replace(\"\\n\",\" \"):\n",
        "      cases = Image.open(\"drive/MyDrive/myfont/{}.png\".format(str(ord(i))))\n",
        "      BG.paste(cases, (gap, ht))\n",
        "      size = cases.width\n",
        "      height=cases.height\n",
        "      gap+=size\n",
        "      if sheet_width < gap or len(i)*115 >(sheet_width-gap):\n",
        "          gap,ht=0,ht+140\n",
        "  print(gap)\n",
        "  print(sheet_width)\n",
        "  BG.show()"
      ],
      "metadata": {
        "colab": {
          "base_uri": "https://localhost:8080/"
        },
        "id": "W8K57RSnu6MN",
        "outputId": "53072009-c5d7-41ce-c7da-62d3041b91ca"
      },
      "execution_count": null,
      "outputs": [
        {
          "output_type": "stream",
          "name": "stdout",
          "text": [
            "1468\n",
            "2632\n"
          ]
        }
      ]
    },
    {
      "cell_type": "code",
      "source": [
        "BG.save('handwritten_text.png')\n"
      ],
      "metadata": {
        "id": "2nTZETTBu8I2"
      },
      "execution_count": null,
      "outputs": []
    }
  ]
}