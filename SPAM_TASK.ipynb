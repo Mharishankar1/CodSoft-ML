{
  "nbformat": 4,
  "nbformat_minor": 0,
  "metadata": {
    "colab": {
      "provenance": [],
      "include_colab_link": true
    },
    "kernelspec": {
      "name": "python3",
      "display_name": "Python 3"
    },
    "language_info": {
      "name": "python"
    }
  },
  "cells": [
    {
      "cell_type": "markdown",
      "metadata": {
        "id": "view-in-github",
        "colab_type": "text"
      },
      "source": [
        "<a href=\"https://colab.research.google.com/github/Mharishankar1/CodSoft-ML/blob/main/SPAM_TASK.ipynb\" target=\"_parent\"><img src=\"https://colab.research.google.com/assets/colab-badge.svg\" alt=\"Open In Colab\"/></a>"
      ]
    },
    {
      "cell_type": "markdown",
      "source": [
        "SPAM CLASSIFICATION\n"
      ],
      "metadata": {
        "id": "v-LBjDCklvyW"
      }
    },
    {
      "cell_type": "code",
      "execution_count": null,
      "metadata": {
        "id": "qXKe5cHIjEW1"
      },
      "outputs": [],
      "source": [
        "import pandas as pd\n",
        "from sklearn.feature_extraction.text import TfidfVectorizer\n",
        "from sklearn.svm import SVC\n",
        "from sklearn.model_selection import train_test_split\n",
        "from sklearn.metrics import accuracy_score, classification_report, confusion_matrix"
      ]
    },
    {
      "cell_type": "code",
      "source": [
        " df = pd.read_csv('spam.csv', encoding='latin1')"
      ],
      "metadata": {
        "id": "Nqxh5rvSj5ns"
      },
      "execution_count": null,
      "outputs": []
    },
    {
      "cell_type": "code",
      "source": [
        "print(\"First few rows of the dataset:\")\n",
        "print(df.head())"
      ],
      "metadata": {
        "colab": {
          "base_uri": "https://localhost:8080/"
        },
        "id": "mS-4TYlej91D",
        "outputId": "aaed6e21-7dc0-49a0-b539-9d87bd89d2a4"
      },
      "execution_count": null,
      "outputs": [
        {
          "output_type": "stream",
          "name": "stdout",
          "text": [
            "First few rows of the dataset:\n",
            "     v1                                                 v2 Unnamed: 2  \\\n",
            "0   ham  Go until jurong point, crazy.. Available only ...        NaN   \n",
            "1   ham                      Ok lar... Joking wif u oni...        NaN   \n",
            "2  spam  Free entry in 2 a wkly comp to win FA Cup fina...        NaN   \n",
            "3   ham  U dun say so early hor... U c already then say...        NaN   \n",
            "4   ham  Nah I don't think he goes to usf, he lives aro...        NaN   \n",
            "\n",
            "  Unnamed: 3 Unnamed: 4  \n",
            "0        NaN        NaN  \n",
            "1        NaN        NaN  \n",
            "2        NaN        NaN  \n",
            "3        NaN        NaN  \n",
            "4        NaN        NaN  \n"
          ]
        }
      ]
    },
    {
      "cell_type": "code",
      "source": [
        "print(\"\\nMissing Values:\")\n",
        "print(df.isnull().sum())"
      ],
      "metadata": {
        "colab": {
          "base_uri": "https://localhost:8080/"
        },
        "id": "guyfi9zkj_6_",
        "outputId": "1173d0a7-2fae-49c7-e84d-da69394f03fc"
      },
      "execution_count": null,
      "outputs": [
        {
          "output_type": "stream",
          "name": "stdout",
          "text": [
            "\n",
            "Missing Values:\n",
            "v1               0\n",
            "v2               0\n",
            "Unnamed: 2    5522\n",
            "Unnamed: 3    5560\n",
            "Unnamed: 4    5566\n",
            "dtype: int64\n"
          ]
        }
      ]
    },
    {
      "cell_type": "code",
      "source": [
        "print(\"\\nDistribution of 'label' variable:\")\n",
        "print(df['v1'].value_counts())"
      ],
      "metadata": {
        "colab": {
          "base_uri": "https://localhost:8080/"
        },
        "id": "_LRlV_9tkRtr",
        "outputId": "5cb2e730-4aaa-46cb-ccbb-31fe002265ed"
      },
      "execution_count": null,
      "outputs": [
        {
          "output_type": "stream",
          "name": "stdout",
          "text": [
            "\n",
            "Distribution of 'label' variable:\n",
            "v1\n",
            "ham     4825\n",
            "spam     747\n",
            "Name: count, dtype: int64\n"
          ]
        }
      ]
    },
    {
      "cell_type": "code",
      "source": [
        "import matplotlib.pyplot as plt\n",
        "import seaborn as sns\n",
        "\n",
        "plt.figure(figsize=(8, 6))\n",
        "sns.countplot(x='v1', data=df)\n",
        "plt.title('Distribution of Spam and Ham Messages')\n",
        "plt.show()"
      ],
      "metadata": {
        "colab": {
          "base_uri": "https://localhost:8080/",
          "height": 564
        },
        "id": "WVqbOd-jkYSg",
        "outputId": "6c318fd6-b8fc-4566-e2dd-857bbd430dfd"
      },
      "execution_count": null,
      "outputs": [
        {
          "output_type": "display_data",
          "data": {
            "text/plain": [
              "<Figure size 800x600 with 1 Axes>"
            ],
            "image/png": "[encoded data removed]"
          },
          "metadata": {}
        }
      ]
    },
    {
      "cell_type": "code",
      "source": [
        " df = df.rename(columns={'v1': 'label', 'v2': 'message'})"
      ],
      "metadata": {
        "id": "u_V287hMkfR5"
      },
      "execution_count": null,
      "outputs": []
    },
    {
      "cell_type": "code",
      "source": [
        " X_train, X_test, y_train, y_test = train_test_split(df['message'], df['label'], test_size=0.2, random_state=42)"
      ],
      "metadata": {
        "id": "Zrypn1FzkqVH"
      },
      "execution_count": null,
      "outputs": []
    },
    {
      "cell_type": "code",
      "source": [
        "import matplotlib.pyplot as plt\n",
        "import pandas as pd\n",
        "from sklearn.feature_extraction.text import TfidfVectorizer, CountVectorizer\n",
        "from sklearn.model_selection import train_test_split\n",
        "from sklearn.svm import SVC\n",
        "from sklearn.linear_model import LogisticRegression\n",
        "from sklearn.naive_bayes import MultinomialNB\n",
        "from sklearn.metrics import accuracy_score, classification_report\n",
        "tfidf_vectorizer = TfidfVectorizer(stop_words='english')\n",
        "X_train_tfidf = tfidf_vectorizer.fit_transform(X_train)\n",
        "X_test_tfidf = tfidf_vectorizer.transform(X_test)\n",
        "count_vectorizer = CountVectorizer(stop_words='english')\n",
        "X_train_counts = count_vectorizer.fit_transform(X_train)\n",
        "X_test_counts = count_vectorizer.transform(X_test)\n",
        "models = {\n",
        "    'SVM': SVC(C=1.0, kernel='linear'),\n",
        "    'Logistic Regression': LogisticRegression(),\n",
        "    'Naive Bayes': MultinomialNB()\n",
        "}\n",
        "\n",
        "results = {}\n",
        "for name, model in models.items():\n",
        "    if name == 'Naive Bayes':\n",
        "        model.fit(X_train_counts, y_train)\n",
        "        y_pred = model.predict(X_test_counts)\n",
        "    else:\n",
        "        model.fit(X_train_tfidf, y_train)\n",
        "        y_pred = model.predict(X_test_tfidf)\n",
        "    accuracy = accuracy_score(y_test, y_pred)\n",
        "    results[name] = accuracy\n",
        "    print(f\"{name} Accuracy: {accuracy:.4f}\")\n",
        "    print(\"Classification Report:\")\n",
        "    print(classification_report(y_test, y_pred))\n",
        "plt.figure(figsize=(10, 6))\n",
        "plt.bar(results.keys(), results.values(), color=['blue', 'orange', 'green'])\n",
        "plt.xlabel('Model')\n",
        "plt.ylabel('Accuracy')\n",
        "plt.title('Comparison of Model Accuracies for Spam classification')\n",
        "plt.ylim(0.8, 1.0)\n",
        "plt.show()\n",
        "best_model = max(results, key=results.get)\n",
        "print(f\"The best model is: {best_model} with accuracy {results[best_model]:.4f}\")\n"
      ],
      "metadata": {
        "colab": {
          "base_uri": "https://localhost:8080/",
          "height": 1000
        },
        "id": "ogp4awFco7m3",
        "outputId": "f3fbfa8e-7368-4948-e983-16805318c554"
      },
      "execution_count": null,
      "outputs": [
        {
          "output_type": "stream",
          "name": "stdout",
          "text": [
            "SVM Accuracy: 0.9794\n",
            "Classification Report:\n",
            "              precision    recall  f1-score   support\n",
            "\n",
            "         ham       0.98      1.00      0.99       965\n",
            "        spam       0.97      0.87      0.92       150\n",
            "\n",
            "    accuracy                           0.98      1115\n",
            "   macro avg       0.98      0.93      0.95      1115\n",
            "weighted avg       0.98      0.98      0.98      1115\n",
            "\n",
            "Logistic Regression Accuracy: 0.9525\n",
            "Classification Report:\n",
            "              precision    recall  f1-score   support\n",
            "\n",
            "         ham       0.95      1.00      0.97       965\n",
            "        spam       0.97      0.67      0.79       150\n",
            "\n",
            "    accuracy                           0.95      1115\n",
            "   macro avg       0.96      0.83      0.88      1115\n",
            "weighted avg       0.95      0.95      0.95      1115\n",
            "\n",
            "Naive Bayes Accuracy: 0.9839\n",
            "Classification Report:\n",
            "              precision    recall  f1-score   support\n",
            "\n",
            "         ham       0.99      0.99      0.99       965\n",
            "        spam       0.96      0.92      0.94       150\n",
            "\n",
            "    accuracy                           0.98      1115\n",
            "   macro avg       0.97      0.96      0.96      1115\n",
            "weighted avg       0.98      0.98      0.98      1115\n",
            "\n"
          ]
        },
        {
          "output_type": "display_data",
          "data": {
            "text/plain": [
              "<Figure size 1000x600 with 1 Axes>"
            ],
            "image/png": "[encoded data removed]"
          },
          "metadata": {}
        },
        {
          "output_type": "stream",
          "name": "stdout",
          "text": [
            "The best model is: Naive Bayes with accuracy 0.9839\n"
          ]
        }
      ]
    },
    {
      "cell_type": "code",
      "source": [
        "user_message = input(\"Enter the message to classify: \")"
      ],
      "metadata": {
        "colab": {
          "base_uri": "https://localhost:8080/"
        },
        "id": "JdQDdaWMlBsq",
        "outputId": "2214e83d-de93-42ce-caf4-ae8b649d8c28"
      },
      "execution_count": null,
      "outputs": [
        {
          "name": "stdout",
          "output_type": "stream",
          "text": [
            "Enter the message to classify: hi\n"
          ]
        }
      ]
    },
    {
      "cell_type": "code",
      "source": [
        "\n",
        "message_tfidf = tfidf_vectorizer.transform([user_message])\n",
        "\n",
        "best_model_object = models[best_model]\n",
        "prediction = best_model_object.predict(message_tfidf)\n",
        "\n",
        "print(\"Prediction:\", prediction)\n"
      ],
      "metadata": {
        "id": "fIJcBKDJlW-n",
        "colab": {
          "base_uri": "https://localhost:8080/"
        },
        "outputId": "7d659da5-9278-4ebd-b26c-c78201a8da77"
      },
      "execution_count": null,
      "outputs": [
        {
          "output_type": "stream",
          "name": "stdout",
          "text": [
            "Prediction: ['ham']\n"
          ]
        }
      ]
    }
  ]
}